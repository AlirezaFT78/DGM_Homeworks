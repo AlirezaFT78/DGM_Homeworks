{
  "cells": [
    {
      "cell_type": "markdown",
      "metadata": {
        "id": "26Wlw67ORaW7"
      },
      "source": [
        "<font face=\"Times New Roman\" size=5>\n",
        "<div dir=rtl align=\"center\">\n",
        "<font face=\"Times New Roman\" size=5>\n",
        "In The Name of God\n",
        "</font>\n",
        "<br>\n",
        "<img src=\"https://logoyar.com/content/wp-content/uploads/2021/04/sharif-university-logo.png\" alt=\"University Logo\" width=\"150\" height=\"150\">\n",
        "<br>\n",
        "<font face=\"Times New Roman\" size=4 align=center>\n",
        "Sharif University of Technology - Department of Electrical Engineering\n",
        "</font>\n",
        "<br>\n",
        "<font color=\"#008080\" size=6>\n",
        "Deep Generative Models\n",
        "</font>\n",
        "\n",
        "<hr/>\n",
        "<font color=\"#800080\" size=5>\n",
        "Assignment 4: Energy-based Models\n",
        "<br>\n",
        "</font>\n",
        "<font size=5>\n",
        "Instructor: Dr. S. Amini\n",
        "<br>\n",
        "</font>\n",
        "<font size=4>\n",
        "Fall 2024\n",
        "<br>\n",
        "</font>\n",
        "<font face=\"Times New Roman\" size=4>\n",
        "Deadline: Month day at 23:55\n",
        "</font>\n",
        "<hr>\n",
        "</div></font>"
      ]
    },
    {
      "cell_type": "markdown",
      "metadata": {
        "id": "DLeVLaOjmdAn"
      },
      "source": [
        "This homework helps you implement a Energy-based Model (EBM).  \n",
        "For references please refer to the original [Implicit Generation and Generalization in Energy-Based Models](https://arxiv.org/abs/1903.08689).\n",
        "\n",
        "In this homework you need to complete the notebook and run all the cells.\n",
        "We have specified the parts to be completed with `TODO` tags inside the code blocks.\n",
        "\n",
        "**NOTES**:\n",
        "* Feel free to change any part of notebook, but remeber to use comments for clarification.\n",
        "* You can get **complete score** for this notebook if your codes work properly and without errors.\n",
        "* This notebook is tested with *Google Colab*."
      ]
    },
    {
      "cell_type": "code",
      "execution_count": 1,
      "metadata": {
        "id": "W4fh9cA3RaW9"
      },
      "outputs": [],
      "source": [
        "name = \"Alireza Farajtabrizi\"\n",
        "studentId = \"403206554\""
      ]
    },
    {
      "cell_type": "markdown",
      "metadata": {
        "id": "g1OtqJ4Sniak"
      },
      "source": [
        "# Energy-based Models (EBMs) (80 pts)"
      ]
    },
    {
      "cell_type": "markdown",
      "metadata": {
        "id": "du7Y-Baxn-xN"
      },
      "source": [
        "## Introduction"
      ]
    },
    {
      "cell_type": "markdown",
      "metadata": {
        "id": "aHBmIDAen_jf"
      },
      "source": [
        "In this notebook, we will look at energy-based deep learning models, and focus on their application as generative models.\n",
        "\n",
        "First, let's import our libraries below."
      ]
    },
    {
      "cell_type": "code",
      "execution_count": 2,
      "metadata": {
        "colab": {
          "base_uri": "https://localhost:8080/"
        },
        "id": "ibCHvW_xFxAY",
        "outputId": "331e999a-d2d0-435b-f5a6-1e2d648ea456"
      },
      "outputs": [
        {
          "data": {
            "text/plain": [
              "device(type='cuda')"
            ]
          },
          "execution_count": 2,
          "metadata": {},
          "output_type": "execute_result"
        }
      ],
      "source": [
        "# Standard libraries\n",
        "from tqdm import tqdm\n",
        "import numpy as np\n",
        "import random\n",
        "from scipy.spatial.distance import cdist\n",
        "\n",
        "## Imports for plotting\n",
        "import matplotlib.pyplot as plt\n",
        "%matplotlib inline\n",
        "\n",
        "## PyTorch\n",
        "import torch\n",
        "import torch.nn as nn\n",
        "import torch.nn.functional as F\n",
        "import torch.optim as optim\n",
        "from torch.utils.data import DataLoader\n",
        "\n",
        "# Torchvision\n",
        "import torchvision\n",
        "from torchvision.datasets import MNIST\n",
        "from torchvision import transforms\n",
        "from torchvision.utils import make_grid\n",
        "\n",
        "np.random.seed(42)\n",
        "torch.manual_seed(42)\n",
        "torch.cuda.manual_seed(42)\n",
        "torch.backends.cudnn.deterministic = True\n",
        "torch.backends.cudnn.benchmark = False\n",
        "\n",
        "device = torch.device('cuda') if torch.cuda.is_available() else torch.device(\"cpu\")\n",
        "device"
      ]
    },
    {
      "cell_type": "markdown",
      "metadata": {
        "id": "ZGoeApIVobpz"
      },
      "source": [
        "## Energy Models"
      ]
    },
    {
      "cell_type": "markdown",
      "metadata": {
        "id": "0zuuiSOeof63"
      },
      "source": [
        "As we have seen in the class, Energy-based models tend to predict probability density distribution. For this purpose we need to learn given probability:\n",
        "\n",
        "\n",
        "\n",
        "$p_{\\theta }( x_{train}) =\\frac{e^{f_{\\theta }( x)}}{Z( \\theta )}$\n",
        "\n",
        "\n",
        "\n",
        "Here $p_{\\theta }( x_{train})$ stands for probability density of our training data distribution. We know that calculating the partition function ($Z( \\theta )$) is interactable. For this purpose we will use contrastive divergence algorithm."
      ]
    },
    {
      "cell_type": "markdown",
      "metadata": {
        "id": "nJPqyLVAs0bO"
      },
      "source": [
        "### Contrastive Divergence\n",
        "\n",
        "We train generative models usually by maximum likelihood estimation. But the exact likelihood of a point cannot be determined due to intractable normalization constant $Z(\\theta)$, we need to train energy-based models slightly different. We can re-write our maximum likelihood objective where we maximize the probability of $\\mathbf{x}_{\\text{train}}$ compared to a randomly sampled data point of our model:\n",
        "\n",
        "$$\n",
        "\\begin{split}\n",
        "    \\nabla_{\\theta}\\mathcal{L}_{\\text{MLE}}(\\mathbf{\\theta}) & = \\nabla_{\\theta}\\log p_{\\theta}(\\mathbf{x})\\\\[5pt]\n",
        "    & \\approx  \\nabla_{\\theta}F_{\\theta}(\\mathbf{x_{\\text{train}}}) - \\nabla_{\\theta}F_{\\theta}(\\mathbf{x_{\\text{sample}}})\n",
        "\\end{split}\n",
        "$$\n",
        "\n",
        "Note that the loss is still an objective we want to minimize. Thus, we try to minimize the energy for data points from the dataset, while maximizing the energy for randomly sampled data points from our model. The trick for sampling is that we approximate $Z(\\theta)$ by a single Monte-Carlo sample. This gives us the exact same objective as written above.\n",
        "\n",
        "Visually, the objective is shown below (figure - [Stefano Ermon and Aditya Grover](https://deepgenerativemodels.github.io/assets/slides/cs236_lecture11.pdf)):\n",
        "\n",
        "\n",
        "<center width=\"100%\"><img src=\"https://uvadlc-notebooks.readthedocs.io/en/latest/_images/contrastive_divergence.svg\" width=\"90%\"></center>\n",
        "\n",
        "\n",
        "The point on the right, called \"correct answer\", represents a data point from the dataset (i.e. $x_{\\text{train}}$), and the left point, \"wrong answer\", a sample from our model (i.e. $x_{\\text{sample}}$). Thus, we try to \"pull up\" the probability of the data points in the dataset, while \"pushing down\" randomly sampled points."
      ]
    },
    {
      "cell_type": "markdown",
      "metadata": {
        "id": "fTyS6sxkxP31"
      },
      "source": [
        "### Dataset\n",
        "\n",
        "First, we load the MNIST dataset below. Note that we need to normalize the images between -1 and 1 instead of mean 0 and std 1 because during sampling, we have to limit the input space. Scaling between -1 and 1 makes it easier to implement it."
      ]
    },
    {
      "cell_type": "code",
      "execution_count": 3,
      "metadata": {
        "colab": {
          "base_uri": "https://localhost:8080/"
        },
        "collapsed": true,
        "id": "W4k9hWDluSnj",
        "outputId": "2c691fa8-a111-4567-8cb0-ce9e51a87929"
      },
      "outputs": [],
      "source": [
        "############ TODO #############:\n",
        "BATCH_SIZE = 128\n",
        "\n",
        "transform = transform = transforms.Compose([\n",
        "    transforms.ToTensor(),  # Convert the images to PyTorch tensors\n",
        "    transforms.Lambda(lambda x: (x * 2) - 1)\n",
        "])\n",
        "###############################\n",
        "\n",
        "train_set = MNIST(root='./', train=True, transform=transform, download=True)\n",
        "test_set = MNIST(root='./', train=False, transform=transform, download=True)\n",
        "\n",
        "train_loader = DataLoader(train_set, batch_size=BATCH_SIZE, shuffle=True,  drop_last=True, pin_memory=True)\n",
        "test_loader  = DataLoader(test_set,  batch_size=BATCH_SIZE, shuffle=False, drop_last=False)"
      ]
    },
    {
      "cell_type": "markdown",
      "metadata": {
        "id": "gOqx1hQTxjL7"
      },
      "source": [
        "### CNN Model\n",
        "\n",
        "First, we implement our CNN model. The MNIST images are 28x28, hence a small model is enough. But you are free to use pre-trained Convolution Networks (such as Resnet, etc.)\n",
        "\n",
        "Here we use a smooth activation function like Swish instead of ReLU in the energy model. This is because gradients should not be sparse."
      ]
    },
    {
      "cell_type": "code",
      "execution_count": 4,
      "metadata": {
        "id": "SsURXgNLM-gq"
      },
      "outputs": [],
      "source": [
        "class Swish(nn.Module):\n",
        "\n",
        "    def forward(self, x):\n",
        "        return x * torch.sigmoid(x)\n",
        "\n",
        "\n",
        "class CNNModel(nn.Module):\n",
        "\n",
        "    def __init__(self, hidden_features=32, out_dim=1):\n",
        "        super().__init__()\n",
        "        # We increase the hidden dimension over layers. Here pre-calculated for simplicity.\n",
        "        hidden_dim = hidden_features//2\n",
        "        hidden_dim2 = hidden_features\n",
        "        hidden_dim3 = hidden_features*2\n",
        "\n",
        "        # Series of convolutions and Swish activation functions\n",
        "        self.cnn_layers = nn.Sequential(\n",
        "                nn.Conv2d(1, hidden_dim, kernel_size=5, stride=2, padding=4), # [16x16] - Larger padding to get 32x32 image\n",
        "                Swish(),\n",
        "                nn.Conv2d(hidden_dim, hidden_dim2, kernel_size=3, stride=2, padding=1), #  [8x8]\n",
        "                Swish(),\n",
        "                nn.Conv2d(hidden_dim2, hidden_dim3, kernel_size=3, stride=2, padding=1), # [4x4]\n",
        "                Swish(),\n",
        "                nn.Conv2d(hidden_dim3, hidden_dim3, kernel_size=3, stride=2, padding=1), # [2x2]\n",
        "                Swish(),\n",
        "                nn.Flatten(),\n",
        "                nn.Linear(hidden_dim3*4, hidden_dim3),\n",
        "                Swish(),\n",
        "                nn.Linear(hidden_dim3, out_dim)\n",
        "        )\n",
        "\n",
        "    def forward(self, x):\n",
        "        x = self.cnn_layers(x).squeeze(dim=-1)\n",
        "        return x"
      ]
    },
    {
      "cell_type": "markdown",
      "metadata": {
        "id": "Npjk5kVwxy94"
      },
      "source": [
        "### Sampling buffer\n",
        "\n",
        "In this part, we construct our sampler. To use the contrastive divergence objective, we need to generate samples during training. The simple way to sampling is to use simple MCMC algorithm, but in practice it costs too much. So here we use *Langevin MCMC* that uses gradient for better sampling.\n",
        "\n",
        "<center width=\"100%\"><img src=\"https://uvadlc-notebooks.readthedocs.io/en/latest/_images/sampling.svg\" width=\"90%\"></center>\n",
        "\n",
        "Below, we implement the sampling class. The function `sample_new_exmps` returns a new batch of \"fake\" images . These images are generated using MCMC. For more efficiency, each time we only generate 5% of sample size and other 95% are randomly picked from our buffer. We perform MCMC for 80 iterations to improve the image quality and come closer to samples from $p_{\\theta}(\\mathbf{x})$. In the function `generate_samples`, we implemented the MCMC for images. Note that the hyperparameters in this code are for MNIST dataset."
      ]
    },
    {
      "cell_type": "code",
      "execution_count": 5,
      "metadata": {
        "id": "zvkonN7sRaW_"
      },
      "outputs": [],
      "source": [
        "class Sampler:\n",
        "    def __init__(self, model, img_shape, sample_size, max_len=8192):\n",
        "        \"\"\"\n",
        "        Inputs:\n",
        "            model - Neural network to use for modeling E_theta\n",
        "            img_shape - Shape of the images to model\n",
        "            sample_size - Batch size of the samples\n",
        "            max_len - Maximum number of data points to keep in the buffer\n",
        "        \"\"\"\n",
        "        super().__init__()\n",
        "        self.model = model\n",
        "        self.img_shape = img_shape\n",
        "        self.sample_size = sample_size\n",
        "        self.max_len = max_len\n",
        "        self.examples = [(torch.rand(img_shape) * 2 - 1) for _ in range(self.sample_size)]\n",
        "\n",
        "    def sample_new_exmps(self, steps=60, step_size=10):\n",
        "        \"\"\"\n",
        "        Function for getting a new batch of \"fake\" images.\n",
        "        Inputs:\n",
        "            steps - Number of iterations in the MCMC algorithm\n",
        "            step_size - Learning rate nu in the algorithm above\n",
        "        \"\"\"\n",
        "        # Choose 95% of the batch from the buffer, 5% generate from scratch\n",
        "        # Only generate 5% of sample size and use other 95% from buffer (examples)\n",
        "        # You can generate samples the same way they're generated in \"examples\"\n",
        "        # Then randomly choose 95% of sample size from examples and add newly generated one to it\n",
        "        ############ TODO #############:\n",
        "        n_new = int(0.05 * self.sample_size)\n",
        "        rand_imgs = torch.stack([(torch.rand(self.img_shape) * 2 - 1) for _ in range(n_new)])\n",
        "        old_imgs = torch.stack(random.sample(self.examples, self.sample_size - n_new))\n",
        "        newly_imgs =  torch.cat([rand_imgs, old_imgs], dim=0).detach().to(device)\n",
        "        ################################\n",
        "\n",
        "        # Perform MCMC sampling (use generate_samples)\n",
        "        ############ TODO #############:\n",
        "        newly_imgs = self.generate_samples(self.model, newly_imgs, steps=steps, step_size=step_size)\n",
        "        ################################\n",
        "        # Add new images to the buffer and remove old ones if needed\n",
        "        self.examples = list(newly_imgs.to(torch.device(\"cpu\"))) + self.examples\n",
        "        self.examples = self.examples[:self.max_len]\n",
        "        return newly_imgs\n",
        "\n",
        "    @staticmethod\n",
        "    def generate_samples(model, newly_imgs, steps=60, step_size=10, return_img_per_step=False):\n",
        "        \"\"\"\n",
        "        Function for sampling images for a given model.\n",
        "        Inputs:\n",
        "            model - Neural network to use for modeling E_theta\n",
        "            newly_imgs - Images to start from for sampling. If you want to generate new images.\n",
        "            steps - Number of iterations in the Langevin MCMC algorithm.\n",
        "            step_size - Learning rate nu in the algorithm above\n",
        "            return_img_per_step - If True, we return the sample at every iteration of the MCMC\n",
        "        \"\"\"\n",
        "        # Before MCMC: set model parameters to \"required_grad=False\"\n",
        "        # because we are only interested in the gradients of the input.\n",
        "        is_training = model.training\n",
        "        model.eval()\n",
        "        for p in model.parameters():\n",
        "            p.requires_grad = False\n",
        "\n",
        "        newly_imgs = newly_imgs.detach()\n",
        "        newly_imgs.requires_grad = True\n",
        "\n",
        "        # Enable gradient calculation if not already the case\n",
        "        had_gradients_enabled = torch.is_grad_enabled()\n",
        "        torch.set_grad_enabled(True)\n",
        "\n",
        "        # we use a buffer tensor in which we generate noise each loop iteration.\n",
        "        # more efficient than creating a new tensor every iteration.\n",
        "        # generate random tensor using image shape\n",
        "        ############ TODO #############:\n",
        "        noise = torch.randn_like(newly_imgs) * 0.005\n",
        "        ################################\n",
        "\n",
        "        # List for storing generations at each step (for later analysis)\n",
        "        imgs_per_step = []\n",
        "\n",
        "        # Loop over K (steps)\n",
        "        for _ in range(steps):\n",
        "            # You can use tensor functions to complete the code. eg. tensor.add, tensor.grad\n",
        "\n",
        "            # Part 1:\n",
        "            # Sample noise tensor data from a normal dist (mu=0, std=0.005).\n",
        "            # Add the noise to the new image\n",
        "            # Clamp it between -1 and 1\n",
        "            ############ TODO #############:\n",
        "            newly_imgs.data.add_(noise.normal_(0, 0.005))\n",
        "            newly_imgs.data.clamp_(min=-1.0, max=1.0)\n",
        "            ################################\n",
        "\n",
        "\n",
        "            # Part 2:\n",
        "            # Feed new image to the model (**model output sign is important)\n",
        "            # Use backward on sum of output to calculate gradient\n",
        "            # Clamp tensor gradient between -0.05 and 0.05 (preventing too high gradients)\n",
        "            ############ TODO #############:\n",
        "            output = model(newly_imgs).sum()\n",
        "            output.backward()\n",
        "            newly_imgs.grad.data.clamp_(min=-0.05, max=0.05)\n",
        "            ################################\n",
        "\n",
        "            # Part 3:\n",
        "            # Add grad to the image with step_size (like the given algorithm)\n",
        "            ############ TODO #############:\n",
        "            newly_imgs.data.add_(-step_size * newly_imgs.grad.data)\n",
        "            ################################\n",
        "            newly_imgs.grad.detach_()\n",
        "            newly_imgs.grad.zero_()\n",
        "            newly_imgs.data.clamp_(min=-1.0, max=1.0)\n",
        "\n",
        "            if return_img_per_step:\n",
        "                imgs_per_step.append(newly_imgs.clone().detach())\n",
        "\n",
        "        # Reactivate gradients for parameters for training\n",
        "        for p in model.parameters():\n",
        "            p.requires_grad = True\n",
        "        model.train(is_training)\n",
        "\n",
        "        # Reset gradient calculation to setting before this function\n",
        "        torch.set_grad_enabled(had_gradients_enabled)\n",
        "\n",
        "        if return_img_per_step:\n",
        "            return torch.stack(imgs_per_step, dim=0)\n",
        "        else:\n",
        "            return newly_imgs"
      ]
    },
    {
      "cell_type": "markdown",
      "metadata": {
        "id": "YSLSbpj5z94m"
      },
      "source": [
        "### Training algorithm\n",
        "\n",
        "Below is shown a summary of the full training algorithm of an energy model:\n",
        "\n",
        "<center width=\"100%\"><img src=\"https://uvadlc-notebooks.readthedocs.io/en/latest/_images/training_algorithm.svg\" width=\"80%\"></center>\n",
        "\n",
        "Given algorithm, for each batch of data we're going to, first, add a small noise to image, then we sample a fake image using `sample_new_example`. After this we feed these images to our `Model`. At the end we use our `ebm_loss` to calculate loss and backward to complete our trainig.\n",
        "\n",
        "For evaluation we use almost the same structure as our training, but with a different loss.\n",
        "\n",
        "After training phase we're going to use `generate_image` to sample from our model (generate images)."
      ]
    },
    {
      "cell_type": "code",
      "execution_count": 6,
      "metadata": {
        "id": "vT0HaIAmRaXA"
      },
      "outputs": [],
      "source": [
        "# Implement the given algorithm\n",
        "def train_one_epoch(model, train_loader, optimizer, sampler, criterion, alpha):\n",
        "    \"\"\"\n",
        "    Input:\n",
        "        model: implemented CNN\n",
        "        train_loader: train Dataloader\n",
        "        optimizer: Optimizer to optimize model\n",
        "        sampler: Sampler to generate samples\n",
        "        alpha: hyperparameter for loss\n",
        "    Returns:\n",
        "        float: Epoch loss\n",
        "    \"\"\"\n",
        "    torch.set_grad_enabled(True)\n",
        "    model.train()\n",
        "    total_loss = 0.0\n",
        "\n",
        "    for imgs, _ in tqdm(train_loader):\n",
        "        # Add small noise to real images\n",
        "        imgs = imgs.to(device)\n",
        "        small_noise = torch.randn_like(imgs) * 0.005\n",
        "        noisy_imgs = imgs + small_noise\n",
        "        noisy_imgs.clamp_(-1.0, 1.0)  # Ensure values remain within valid range\n",
        "\n",
        "        # Generate fake samples using the sampler\n",
        "        fake_imgs = sampler.sample_new_exmps(steps=80, step_size=10)\n",
        "        # Forward pass: Compute outputs for real and fake images\n",
        "        real_out = model(noisy_imgs)\n",
        "        fake_out = model(fake_imgs)\n",
        "\n",
        "        # Compute EBM losses\n",
        "        loss = criterion(real_out, fake_out, alpha)\n",
        "\n",
        "        # Backward pass and optimization\n",
        "        optimizer.zero_grad()\n",
        "        loss.backward()\n",
        "        optimizer.step()\n",
        "\n",
        "        # Accumulate loss for logging\n",
        "        total_loss += loss.item()\n",
        "\n",
        "    # Return average loss for the epoch\n",
        "    return total_loss / len(train_loader)\n",
        "\n",
        "\n",
        "def test_one_epoch(model, test_loader):\n",
        "    \"\"\"\n",
        "    Input:\n",
        "        model: implemented CNN\n",
        "        test_loader: test Dataloader\n",
        "    Returns:\n",
        "        float: Contrastive divergence loss for validation\n",
        "    \"\"\"\n",
        "    model.eval()\n",
        "    cdiv_total = 0.0\n",
        "\n",
        "    with torch.no_grad():\n",
        "        for imgs, _ in test_loader:\n",
        "            imgs = imgs.to(device)\n",
        "\n",
        "            # Generate purely random images for testing\n",
        "            fake_imgs = torch.rand_like(imgs) * 2 - 1\n",
        "\n",
        "            # Forward pass for real and fake images\n",
        "            real_out = model(imgs)\n",
        "            fake_out = model(fake_imgs)\n",
        "\n",
        "            # Compute contrastive divergence\n",
        "            cdiv = real_out.mean() - fake_out.mean()\n",
        "\n",
        "            # Accumulate contrastive divergence\n",
        "            cdiv_total += cdiv.item()\n",
        "\n",
        "    # Return average contrastive divergence\n",
        "    return cdiv_total / len(test_loader)\n",
        "\n",
        "# Implement sample generator\n",
        "# Create a random noise using image shape and sample size\n",
        "# Use generate_samples to get samples\n",
        "############ TODO #############:\n",
        "def generate_image(model, sample_size, steps=256, step_size=16, image_shape=(1,28,28)):\n",
        "    sampler = Sampler(model, image_shape, BATCH_SIZE)\n",
        "    model.eval()\n",
        "    start_imgs = torch.randn((sample_size,) + image_shape).to(device)\n",
        "    start_imgs = start_imgs * 2 - 1\n",
        "    torch.set_grad_enabled(True)\n",
        "    imgs_per_step = sampler.generate_samples(model, start_imgs, steps=steps, step_size=step_size, return_img_per_step=True)\n",
        "    imgs_per_step = (imgs_per_step + 1) / 2\n",
        "    torch.set_grad_enabled(False)\n",
        "    return imgs_per_step\n",
        "################################"
      ]
    },
    {
      "cell_type": "markdown",
      "metadata": {
        "id": "31y_cfcQ2HIT"
      },
      "source": [
        "### Loss\n",
        "\n",
        "Here we define our Energy-based Model loss. EBM loss consist of two different losses.\n",
        "\n",
        "\n",
        "1.   Contrastive divergence using our energy model $f_{\\theta}$\n",
        "2.   Regularization term is additional training trick to ensure that the output values are in a reasonable range. Without this regularization loss, the output values will fluctuate in a very large range\n",
        "\n",
        "`alpha` is a hyperparameter for regularization term ($\\alpha<1$)"
      ]
    },
    {
      "cell_type": "code",
      "execution_count": 7,
      "metadata": {
        "id": "wRdi2N92gO8k"
      },
      "outputs": [],
      "source": [
        "# Implement the given EBM loss\n",
        "############ TODO #############:\n",
        "def ebm_loss(real, fake, alpha):\n",
        "    lcd = real.mean() - fake.mean()\n",
        "    lrg = (real.pow(2).mean() + fake.pow(2).mean())\n",
        "    loss = lcd + alpha * lrg\n",
        "    return loss\n",
        "################################"
      ]
    },
    {
      "cell_type": "markdown",
      "metadata": {
        "id": "vnvmOWcV27zS"
      },
      "source": [
        "### Instantiation\n",
        "\n",
        "Instantiat your **Model**, **Sampler** and **Optimizer**."
      ]
    },
    {
      "cell_type": "code",
      "execution_count": 8,
      "metadata": {
        "id": "EnRpbTiibanv"
      },
      "outputs": [],
      "source": [
        "lr =1e-3\n",
        "alpha = 0.1\n",
        "img_shape = (1, 28, 28)\n",
        "criterion = ebm_loss\n",
        "model = CNNModel(hidden_features=32).to(device)\n",
        "optimizer = optim.Adam(model.parameters(), lr=lr, betas=(0, 0.999))\n",
        "scheduler = optim.lr_scheduler.StepLR(optimizer, 1, gamma=0.97)\n",
        "sampler = Sampler(model, img_shape, BATCH_SIZE)"
      ]
    },
    {
      "cell_type": "markdown",
      "metadata": {
        "id": "Mfmi6-_y3Xdv"
      },
      "source": [
        "### Train Loop\n",
        "\n",
        "Train your model and print loss for each epoch."
      ]
    },
    {
      "cell_type": "code",
      "execution_count": 21,
      "metadata": {
        "colab": {
          "base_uri": "https://localhost:8080/"
        },
        "id": "p2TpMlFaxJYS",
        "outputId": "368b3926-0387-46ce-c8c7-c10292760250"
      },
      "outputs": [
        {
          "name": "stderr",
          "output_type": "stream",
          "text": [
            "100%|██████████| 468/468 [01:35<00:00,  4.88it/s]\n"
          ]
        },
        {
          "name": "stdout",
          "output_type": "stream",
          "text": [
            "Epoch 1: Train Loss = -0.003060565137819404\n"
          ]
        },
        {
          "name": "stderr",
          "output_type": "stream",
          "text": [
            "100%|██████████| 468/468 [01:35<00:00,  4.88it/s]\n"
          ]
        },
        {
          "name": "stdout",
          "output_type": "stream",
          "text": [
            "Epoch 2: Train Loss = 0.00011215053135910993\n"
          ]
        },
        {
          "name": "stderr",
          "output_type": "stream",
          "text": [
            "100%|██████████| 468/468 [01:35<00:00,  4.88it/s]\n"
          ]
        },
        {
          "name": "stdout",
          "output_type": "stream",
          "text": [
            "Epoch 3: Train Loss = 3.574923713543277e-05\n"
          ]
        },
        {
          "name": "stderr",
          "output_type": "stream",
          "text": [
            "100%|██████████| 468/468 [01:35<00:00,  4.88it/s]\n"
          ]
        },
        {
          "name": "stdout",
          "output_type": "stream",
          "text": [
            "Epoch 4: Train Loss = -5.559153967033514e-06\n"
          ]
        },
        {
          "name": "stderr",
          "output_type": "stream",
          "text": [
            "100%|██████████| 468/468 [01:35<00:00,  4.89it/s]\n"
          ]
        },
        {
          "name": "stdout",
          "output_type": "stream",
          "text": [
            "Epoch 5: Train Loss = 0.0007491453982524984\n"
          ]
        },
        {
          "name": "stderr",
          "output_type": "stream",
          "text": [
            "100%|██████████| 468/468 [01:35<00:00,  4.90it/s]\n"
          ]
        },
        {
          "name": "stdout",
          "output_type": "stream",
          "text": [
            "Epoch 6: Train Loss = 3.467442511697673e-05\n"
          ]
        },
        {
          "name": "stderr",
          "output_type": "stream",
          "text": [
            "100%|██████████| 468/468 [01:35<00:00,  4.89it/s]\n"
          ]
        },
        {
          "name": "stdout",
          "output_type": "stream",
          "text": [
            "Epoch 7: Train Loss = 1.2894982315380272e-05\n"
          ]
        },
        {
          "name": "stderr",
          "output_type": "stream",
          "text": [
            "100%|██████████| 468/468 [01:35<00:00,  4.88it/s]\n"
          ]
        },
        {
          "name": "stdout",
          "output_type": "stream",
          "text": [
            "Epoch 8: Train Loss = 4.392924578356682e-05\n"
          ]
        },
        {
          "name": "stderr",
          "output_type": "stream",
          "text": [
            "100%|██████████| 468/468 [01:35<00:00,  4.88it/s]\n"
          ]
        },
        {
          "name": "stdout",
          "output_type": "stream",
          "text": [
            "Epoch 9: Train Loss = 3.803070422170413e-05\n"
          ]
        },
        {
          "name": "stderr",
          "output_type": "stream",
          "text": [
            "100%|██████████| 468/468 [01:35<00:00,  4.91it/s]\n"
          ]
        },
        {
          "name": "stdout",
          "output_type": "stream",
          "text": [
            "Epoch 10: Train Loss = 5.571689629676288e-05\n"
          ]
        },
        {
          "name": "stderr",
          "output_type": "stream",
          "text": [
            "100%|██████████| 468/468 [01:35<00:00,  4.89it/s]\n"
          ]
        },
        {
          "name": "stdout",
          "output_type": "stream",
          "text": [
            "Epoch 11: Train Loss = -3.654048567922372e-07\n"
          ]
        },
        {
          "name": "stderr",
          "output_type": "stream",
          "text": [
            "100%|██████████| 468/468 [01:35<00:00,  4.89it/s]\n"
          ]
        },
        {
          "name": "stdout",
          "output_type": "stream",
          "text": [
            "Epoch 12: Train Loss = 7.616191591000837e-06\n"
          ]
        },
        {
          "name": "stderr",
          "output_type": "stream",
          "text": [
            "100%|██████████| 468/468 [01:35<00:00,  4.89it/s]\n"
          ]
        },
        {
          "name": "stdout",
          "output_type": "stream",
          "text": [
            "Epoch 13: Train Loss = 2.8661302835683033e-05\n"
          ]
        },
        {
          "name": "stderr",
          "output_type": "stream",
          "text": [
            "100%|██████████| 468/468 [01:35<00:00,  4.90it/s]\n"
          ]
        },
        {
          "name": "stdout",
          "output_type": "stream",
          "text": [
            "Epoch 14: Train Loss = 5.4560673413658915e-05\n"
          ]
        },
        {
          "name": "stderr",
          "output_type": "stream",
          "text": [
            "100%|██████████| 468/468 [01:35<00:00,  4.89it/s]\n"
          ]
        },
        {
          "name": "stdout",
          "output_type": "stream",
          "text": [
            "Epoch 15: Train Loss = 4.365087391842956e-05\n"
          ]
        },
        {
          "name": "stderr",
          "output_type": "stream",
          "text": [
            "100%|██████████| 468/468 [01:35<00:00,  4.90it/s]\n"
          ]
        },
        {
          "name": "stdout",
          "output_type": "stream",
          "text": [
            "Epoch 16: Train Loss = -4.253130832033552e-05\n"
          ]
        },
        {
          "name": "stderr",
          "output_type": "stream",
          "text": [
            "100%|██████████| 468/468 [01:35<00:00,  4.89it/s]\n"
          ]
        },
        {
          "name": "stdout",
          "output_type": "stream",
          "text": [
            "Epoch 17: Train Loss = 7.8722033967462e-06\n"
          ]
        },
        {
          "name": "stderr",
          "output_type": "stream",
          "text": [
            "100%|██████████| 468/468 [01:35<00:00,  4.89it/s]\n"
          ]
        },
        {
          "name": "stdout",
          "output_type": "stream",
          "text": [
            "Epoch 18: Train Loss = 7.765451746075624e-05\n"
          ]
        },
        {
          "name": "stderr",
          "output_type": "stream",
          "text": [
            "100%|██████████| 468/468 [01:36<00:00,  4.87it/s]\n"
          ]
        },
        {
          "name": "stdout",
          "output_type": "stream",
          "text": [
            "Epoch 19: Train Loss = -5.319834646145001e-05\n"
          ]
        },
        {
          "name": "stderr",
          "output_type": "stream",
          "text": [
            "100%|██████████| 468/468 [01:36<00:00,  4.86it/s]\n"
          ]
        },
        {
          "name": "stdout",
          "output_type": "stream",
          "text": [
            "Epoch 20: Train Loss = 3.184030511820466e-05\n"
          ]
        },
        {
          "name": "stderr",
          "output_type": "stream",
          "text": [
            "100%|██████████| 468/468 [01:36<00:00,  4.86it/s]\n"
          ]
        },
        {
          "name": "stdout",
          "output_type": "stream",
          "text": [
            "Epoch 21: Train Loss = 2.661844330907473e-05\n"
          ]
        },
        {
          "name": "stderr",
          "output_type": "stream",
          "text": [
            "100%|██████████| 468/468 [01:36<00:00,  4.83it/s]\n"
          ]
        },
        {
          "name": "stdout",
          "output_type": "stream",
          "text": [
            "Epoch 22: Train Loss = -8.079192544118219e-05\n"
          ]
        },
        {
          "name": "stderr",
          "output_type": "stream",
          "text": [
            "100%|██████████| 468/468 [01:36<00:00,  4.87it/s]\n"
          ]
        },
        {
          "name": "stdout",
          "output_type": "stream",
          "text": [
            "Epoch 23: Train Loss = 7.651800906465242e-05\n"
          ]
        },
        {
          "name": "stderr",
          "output_type": "stream",
          "text": [
            "100%|██████████| 468/468 [01:36<00:00,  4.86it/s]\n"
          ]
        },
        {
          "name": "stdout",
          "output_type": "stream",
          "text": [
            "Epoch 24: Train Loss = 6.024201123873976e-05\n"
          ]
        },
        {
          "name": "stderr",
          "output_type": "stream",
          "text": [
            "100%|██████████| 468/468 [01:36<00:00,  4.87it/s]\n"
          ]
        },
        {
          "name": "stdout",
          "output_type": "stream",
          "text": [
            "Epoch 25: Train Loss = -1.1101298610795226e-05\n"
          ]
        },
        {
          "name": "stderr",
          "output_type": "stream",
          "text": [
            "100%|██████████| 468/468 [01:36<00:00,  4.85it/s]\n"
          ]
        },
        {
          "name": "stdout",
          "output_type": "stream",
          "text": [
            "Epoch 26: Train Loss = -3.552461363204544e-05\n"
          ]
        },
        {
          "name": "stderr",
          "output_type": "stream",
          "text": [
            "100%|██████████| 468/468 [01:36<00:00,  4.86it/s]\n"
          ]
        },
        {
          "name": "stdout",
          "output_type": "stream",
          "text": [
            "Epoch 27: Train Loss = 4.653346993427865e-05\n"
          ]
        },
        {
          "name": "stderr",
          "output_type": "stream",
          "text": [
            "100%|██████████| 468/468 [01:35<00:00,  4.88it/s]\n"
          ]
        },
        {
          "name": "stdout",
          "output_type": "stream",
          "text": [
            "Epoch 28: Train Loss = 7.803527723886391e-05\n"
          ]
        },
        {
          "name": "stderr",
          "output_type": "stream",
          "text": [
            "100%|██████████| 468/468 [01:36<00:00,  4.87it/s]\n"
          ]
        },
        {
          "name": "stdout",
          "output_type": "stream",
          "text": [
            "Epoch 29: Train Loss = 0.00011371263194749376\n"
          ]
        },
        {
          "name": "stderr",
          "output_type": "stream",
          "text": [
            "100%|██████████| 468/468 [01:36<00:00,  4.87it/s]\n"
          ]
        },
        {
          "name": "stdout",
          "output_type": "stream",
          "text": [
            "Epoch 30: Train Loss = -8.617350171039301e-05\n"
          ]
        },
        {
          "name": "stderr",
          "output_type": "stream",
          "text": [
            "100%|██████████| 468/468 [01:35<00:00,  4.88it/s]\n"
          ]
        },
        {
          "name": "stdout",
          "output_type": "stream",
          "text": [
            "Epoch 31: Train Loss = 3.262527416854237e-05\n"
          ]
        },
        {
          "name": "stderr",
          "output_type": "stream",
          "text": [
            "100%|██████████| 468/468 [01:36<00:00,  4.86it/s]\n"
          ]
        },
        {
          "name": "stdout",
          "output_type": "stream",
          "text": [
            "Epoch 32: Train Loss = -4.337168346919342e-05\n"
          ]
        },
        {
          "name": "stderr",
          "output_type": "stream",
          "text": [
            "100%|██████████| 468/468 [01:35<00:00,  4.89it/s]\n"
          ]
        },
        {
          "name": "stdout",
          "output_type": "stream",
          "text": [
            "Epoch 33: Train Loss = -1.6193503290554112e-05\n"
          ]
        },
        {
          "name": "stderr",
          "output_type": "stream",
          "text": [
            "100%|██████████| 468/468 [01:36<00:00,  4.87it/s]\n"
          ]
        },
        {
          "name": "stdout",
          "output_type": "stream",
          "text": [
            "Epoch 34: Train Loss = 4.5744679505915905e-05\n"
          ]
        },
        {
          "name": "stderr",
          "output_type": "stream",
          "text": [
            "100%|██████████| 468/468 [01:35<00:00,  4.88it/s]\n"
          ]
        },
        {
          "name": "stdout",
          "output_type": "stream",
          "text": [
            "Epoch 35: Train Loss = 3.529289589896818e-05\n"
          ]
        },
        {
          "name": "stderr",
          "output_type": "stream",
          "text": [
            "100%|██████████| 468/468 [01:36<00:00,  4.87it/s]\n"
          ]
        },
        {
          "name": "stdout",
          "output_type": "stream",
          "text": [
            "Epoch 36: Train Loss = -2.8804035117410913e-06\n"
          ]
        },
        {
          "name": "stderr",
          "output_type": "stream",
          "text": [
            "100%|██████████| 468/468 [01:36<00:00,  4.87it/s]\n"
          ]
        },
        {
          "name": "stdout",
          "output_type": "stream",
          "text": [
            "Epoch 37: Train Loss = 4.415479519142785e-05\n"
          ]
        },
        {
          "name": "stderr",
          "output_type": "stream",
          "text": [
            "100%|██████████| 468/468 [01:35<00:00,  4.89it/s]\n"
          ]
        },
        {
          "name": "stdout",
          "output_type": "stream",
          "text": [
            "Epoch 38: Train Loss = 3.063756046950037e-05\n"
          ]
        },
        {
          "name": "stderr",
          "output_type": "stream",
          "text": [
            "100%|██████████| 468/468 [01:35<00:00,  4.88it/s]\n"
          ]
        },
        {
          "name": "stdout",
          "output_type": "stream",
          "text": [
            "Epoch 39: Train Loss = -8.245734730175733e-05\n"
          ]
        },
        {
          "name": "stderr",
          "output_type": "stream",
          "text": [
            "100%|██████████| 468/468 [01:35<00:00,  4.88it/s]\n"
          ]
        },
        {
          "name": "stdout",
          "output_type": "stream",
          "text": [
            "Epoch 40: Train Loss = 3.165723908626431e-05\n"
          ]
        },
        {
          "name": "stderr",
          "output_type": "stream",
          "text": [
            "100%|██████████| 468/468 [01:36<00:00,  4.87it/s]\n"
          ]
        },
        {
          "name": "stdout",
          "output_type": "stream",
          "text": [
            "Epoch 41: Train Loss = 2.680415699669383e-05\n"
          ]
        },
        {
          "name": "stderr",
          "output_type": "stream",
          "text": [
            "100%|██████████| 468/468 [01:35<00:00,  4.89it/s]\n"
          ]
        },
        {
          "name": "stdout",
          "output_type": "stream",
          "text": [
            "Epoch 42: Train Loss = -9.419773408046598e-06\n"
          ]
        },
        {
          "name": "stderr",
          "output_type": "stream",
          "text": [
            "100%|██████████| 468/468 [01:35<00:00,  4.88it/s]\n"
          ]
        },
        {
          "name": "stdout",
          "output_type": "stream",
          "text": [
            "Epoch 43: Train Loss = -9.511678464873396e-05\n"
          ]
        },
        {
          "name": "stderr",
          "output_type": "stream",
          "text": [
            "100%|██████████| 468/468 [01:35<00:00,  4.88it/s]\n"
          ]
        },
        {
          "name": "stdout",
          "output_type": "stream",
          "text": [
            "Epoch 44: Train Loss = 2.4209737385430126e-05\n"
          ]
        },
        {
          "name": "stderr",
          "output_type": "stream",
          "text": [
            "100%|██████████| 468/468 [01:35<00:00,  4.88it/s]\n"
          ]
        },
        {
          "name": "stdout",
          "output_type": "stream",
          "text": [
            "Epoch 45: Train Loss = -8.398896493923126e-05\n"
          ]
        },
        {
          "name": "stderr",
          "output_type": "stream",
          "text": [
            "100%|██████████| 468/468 [01:35<00:00,  4.88it/s]\n"
          ]
        },
        {
          "name": "stdout",
          "output_type": "stream",
          "text": [
            "Epoch 46: Train Loss = 0.00013288167781897017\n"
          ]
        },
        {
          "name": "stderr",
          "output_type": "stream",
          "text": [
            "100%|██████████| 468/468 [01:35<00:00,  4.88it/s]\n"
          ]
        },
        {
          "name": "stdout",
          "output_type": "stream",
          "text": [
            "Epoch 47: Train Loss = -0.00015909954374800358\n"
          ]
        },
        {
          "name": "stderr",
          "output_type": "stream",
          "text": [
            "100%|██████████| 468/468 [01:35<00:00,  4.88it/s]\n"
          ]
        },
        {
          "name": "stdout",
          "output_type": "stream",
          "text": [
            "Epoch 48: Train Loss = -0.00013601868460340422\n"
          ]
        },
        {
          "name": "stderr",
          "output_type": "stream",
          "text": [
            "100%|██████████| 468/468 [01:36<00:00,  4.85it/s]\n"
          ]
        },
        {
          "name": "stdout",
          "output_type": "stream",
          "text": [
            "Epoch 49: Train Loss = -3.037284357902598e-05\n"
          ]
        },
        {
          "name": "stderr",
          "output_type": "stream",
          "text": [
            "100%|██████████| 468/468 [01:36<00:00,  4.85it/s]"
          ]
        },
        {
          "name": "stdout",
          "output_type": "stream",
          "text": [
            "Epoch 50: Train Loss = -0.0001672205033593435\n"
          ]
        },
        {
          "name": "stderr",
          "output_type": "stream",
          "text": [
            "\n"
          ]
        }
      ],
      "source": [
        "train_loss = []\n",
        "epoch = 50\n",
        "for i in range(epoch):\n",
        "  train_loss.append(train_one_epoch(model, train_loader, optimizer, sampler, criterion, alpha))\n",
        "  scheduler.step()\n",
        "  print(f'Epoch {i+1}: Train Loss = {train_loss[-1]}')\n",
        "  torch.save(model.state_dict(), f'EB_model_{i}.pth')"
      ]
    },
    {
      "cell_type": "markdown",
      "metadata": {
        "id": "U26MoRnm3fpF"
      },
      "source": [
        "### Test\n",
        "Test your Model using Test Dataloader"
      ]
    },
    {
      "cell_type": "code",
      "execution_count": 10,
      "metadata": {
        "colab": {
          "base_uri": "https://localhost:8080/"
        },
        "id": "WbQgwh_XD2_g",
        "outputId": "1b928dca-ab45-4859-d452-0076d7406962"
      },
      "outputs": [
        {
          "name": "stdout",
          "output_type": "stream",
          "text": [
            "-9.08399907848503\n"
          ]
        }
      ],
      "source": [
        "print(test_one_epoch(model, test_loader))\n",
        "torch.save(model.state_dict(), 'EB_model.pth')"
      ]
    },
    {
      "cell_type": "code",
      "execution_count": 9,
      "metadata": {},
      "outputs": [
        {
          "data": {
            "text/plain": [
              "<All keys matched successfully>"
            ]
          },
          "execution_count": 9,
          "metadata": {},
          "output_type": "execute_result"
        }
      ],
      "source": [
        "model.load_state_dict(torch.load('EB_model.pth', weights_only=True))"
      ]
    },
    {
      "cell_type": "markdown",
      "metadata": {
        "id": "GCYvcxx331Tv"
      },
      "source": [
        "### Generate Image\n",
        "\n",
        "Here you have to use `generate_image` to sample from model and visualize it."
      ]
    },
    {
      "cell_type": "code",
      "execution_count": 21,
      "metadata": {
        "colab": {
          "base_uri": "https://localhost:8080/",
          "height": 1000
        },
        "id": "jzTSKxMuKKDx",
        "outputId": "2d764e38-0884-439d-d58c-1f0776ba2d62"
      },
      "outputs": [
        {
          "data": {
            "image/png": "[encoded data removed]",
            "text/plain": [
              "<Figure size 800x800 with 1 Axes>"
            ]
          },
          "metadata": {},
          "output_type": "display_data"
        },
        {
          "data": {
            "image/png": "[encoded data removed]",
            "text/plain": [
              "<Figure size 800x800 with 1 Axes>"
            ]
          },
          "metadata": {},
          "output_type": "display_data"
        },
        {
          "data": {
            "image/png": "[encoded data removed]",
            "text/plain": [
              "<Figure size 800x800 with 1 Axes>"
            ]
          },
          "metadata": {},
          "output_type": "display_data"
        },
        {
          "data": {
            "image/png": "[encoded data removed]",
            "text/plain": [
              "<Figure size 800x800 with 1 Axes>"
            ]
          },
          "metadata": {},
          "output_type": "display_data"
        },
        {
          "data": {
            "image/png": "[encoded data removed]",
            "text/plain": [
              "<Figure size 800x800 with 1 Axes>"
            ]
          },
          "metadata": {},
          "output_type": "display_data"
        }
      ],
      "source": [
        "############ TODO #############:\n",
        "images_per_step = generate_image(model, 5)\n",
        "################################\n",
        "\n",
        "for i in range(images_per_step.shape[1]):\n",
        "    imgs_to_plot = images_per_step[0:256:32,i]\n",
        "    grid = torchvision.utils.make_grid(imgs_to_plot, nrow=imgs_to_plot.shape[0], normalize=True, pad_value=0.5, padding=2)\n",
        "    grid = grid.permute(1, 2, 0)\n",
        "    plt.figure(figsize=(8,8))\n",
        "    plt.imshow(grid.clone().cpu())\n",
        "    plt.xlabel(\"Generation iteration\")\n",
        "    plt.show()"
      ]
    },
    {
      "cell_type": "markdown",
      "metadata": {
        "id": "PSmKYXd7RaXC"
      },
      "source": [
        "# Evaluation (20 pts)"
      ]
    },
    {
      "cell_type": "markdown",
      "metadata": {
        "id": "STLjh6mCRaXC"
      },
      "source": [
        "Now lets evaluate the model more precisely."
      ]
    },
    {
      "cell_type": "code",
      "execution_count": 42,
      "metadata": {
        "id": "sqkaM10VRaXC"
      },
      "outputs": [],
      "source": [
        "def compute_identifiability(orig_data, synth_data):\n",
        "    \"\"\"\n",
        "    Args:\n",
        "        orig_data: original data\n",
        "        synth_data: synthetically generated data\n",
        "\n",
        "    Returns:\n",
        "        identifiability_value: Identifiability value\n",
        "    \"\"\"\n",
        "\n",
        "    def compute_entropy(labels):\n",
        "        \"\"\"\n",
        "        Compute entropy of the given labels.\n",
        "\n",
        "        Args:\n",
        "            labels: input labels\n",
        "\n",
        "        Returns:\n",
        "            entropy: computed entropy\n",
        "        \"\"\"\n",
        "\n",
        "        # TODO: Implement the entropy computation\n",
        "        _, counts = np.unique(labels, return_counts=True)\n",
        "        probs = counts / counts.sum()\n",
        "        entropy = -np.sum(probs * np.log2(probs + 1e-16))  # Add epsilon to avoid log(0)\n",
        "        return entropy\n",
        "\n",
        "    orig_data = np.asarray(orig_data)\n",
        "    no, x_dim = np.shape(orig_data)\n",
        "\n",
        "    W = np.zeros([x_dim,])\n",
        "\n",
        "    # TODO: Compute weights using entropy of each dimension\n",
        "    for i in range(x_dim):\n",
        "        W[i] = compute_entropy(orig_data[:, i])\n",
        "    \n",
        "    W = W / (np.sum(W))\n",
        "    \n",
        "    eps = 1e-16  # Small epsilon to avoid division by zero.\n",
        "    # TODO: Normalize data using the weights\n",
        "    orig_data = orig_data * W\n",
        "    synth_data = synth_data * W\n",
        "\n",
        "    # TODO: Compute the distances to the two nearest neighbors for each data point in the original data.\n",
        "    second_orig_nn_distances = []\n",
        "    for i in tqdm(range(no)):\n",
        "        distances = np.linalg.norm(orig_data - orig_data[i], axis=1)\n",
        "        distances[i] = np.inf  # Ignore self-distance\n",
        "        second_nearest_distances = np.sort(distances)[1]\n",
        "        second_orig_nn_distances.append(second_nearest_distances)\n",
        "    second_orig_nn_distances = np.array(second_orig_nn_distances)\n",
        "    \n",
        "    # TODO: Compute the distances from each point in the original data to its nearest neighbor in the synthetic data.\n",
        "    synth_nn_distances = []\n",
        "    for i in tqdm(range(no)):\n",
        "        distances = np.linalg.norm(synth_data - orig_data[i], axis=1)\n",
        "        nearest_distance = np.min(distances)\n",
        "        synth_nn_distances.append(nearest_distance)\n",
        "    synth_nn_distances = np.array(synth_nn_distances)\n",
        "\n",
        "    # TODO: Compute the identifiability metric\n",
        "    '''\n",
        "    Calculate the difference between the nearest synthetic neighbor distance and\n",
        "    the second nearest original neighbor distance for each data point and\n",
        "    count how many times this difference is negative.\n",
        "    Compute the identifiability value as the fraction of times this occurs.\n",
        "    '''\n",
        "    diff = synth_nn_distances - second_orig_nn_distances\n",
        "\n",
        "    identifiability_count = np.sum(diff < 0)\n",
        "    identifiability_value = identifiability_count / no\n",
        "\n",
        "    return identifiability_value"
      ]
    },
    {
      "cell_type": "code",
      "execution_count": 43,
      "metadata": {
        "id": "Stbi_9t6RaXC"
      },
      "outputs": [
        {
          "name": "stderr",
          "output_type": "stream",
          "text": [
            "100%|██████████| 79/79 [00:38<00:00,  2.03it/s]\n",
            "100%|██████████| 10000/10000 [06:53<00:00, 24.17it/s]\n",
            "100%|██████████| 10000/10000 [07:02<00:00, 23.64it/s]"
          ]
        },
        {
          "name": "stdout",
          "output_type": "stream",
          "text": [
            "0.0036\n"
          ]
        },
        {
          "name": "stderr",
          "output_type": "stream",
          "text": [
            "\n"
          ]
        }
      ],
      "source": [
        "origin_data = []\n",
        "for img, _ in test_loader:\n",
        "    origin_data.append(img.numpy())\n",
        "\n",
        "origin_data = np.concatenate(origin_data, axis=0)\n",
        "\n",
        "origin_data = origin_data.reshape(-1, 28*28)\n",
        "\n",
        "synth_data = []\n",
        "for _ in tqdm(range(len(test_loader))):\n",
        "    img = generate_image(model, BATCH_SIZE).squeeze().cpu().numpy()\n",
        "    synth_data.append(img[-1])\n",
        "\n",
        "synth_data = np.concatenate(synth_data, axis=0)\n",
        "\n",
        "synth_data = synth_data.reshape(-1, 28*28)\n",
        "\n",
        "identifiability_value = compute_identifiability(origin_data, synth_data)\n",
        "print(identifiability_value)"
      ]
    }
  ],
  "metadata": {
    "accelerator": "GPU",
    "colab": {
      "gpuType": "T4",
      "provenance": []
    },
    "kernelspec": {
      "display_name": "Python 3",
      "name": "python3"
    },
    "language_info": {
      "codemirror_mode": {
        "name": "ipython",
        "version": 3
      },
      "file_extension": ".py",
      "mimetype": "text/x-python",
      "name": "python",
      "nbconvert_exporter": "python",
      "pygments_lexer": "ipython3",
      "version": "3.10.0"
    }
  },
  "nbformat": 4,
  "nbformat_minor": 0
}
